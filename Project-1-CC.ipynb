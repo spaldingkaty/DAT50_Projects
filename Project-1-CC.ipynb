{
 "cells": [
  {
   "cell_type": "markdown",
   "metadata": {},
   "source": [
    "<img src=\"http://imgur.com/1ZcRyrc.png\" style=\"float: left; margin: 20px; height: 55px\">\n",
    "\n",
    "# Project 1: Python Coding Exercises\n",
    "\n",
    "_Authors: Joseph Nelson (DC) _\n",
    "\n",
    "---"
   ]
  },
  {
   "cell_type": "markdown",
   "metadata": {},
   "source": [
    "The following code challenges are drawn from common exercises used in technical interviews.\n",
    "\n",
    "Please note that there may be several ways to approach each challenge. If you get stuck, try mapping out your approach in pseudocode first. Finally, while solutions to problems like these may be found online, remember that if you copy/paste code that you can't explain, you'll be missing out on the point of the project. The only way to truly learn a new skill is through practice, trial, and error - we can only help you improve by understanding where you are having trouble."
   ]
  },
  {
   "cell_type": "markdown",
   "metadata": {},
   "source": [
    "### Challenge 1: Largest Palindrome\n",
    "A palindromic number reads the same both ways. For example, 1234321 is a palindrome. The largest palindrome made from the product of two two-digit numbers is 9009 = 91 × 99. Find the largest palindrome made from the product of two three-digit numbers. Afterward, write a brief explanation walking through your code's logic in markdown."
   ]
  },
  {
   "cell_type": "code",
   "execution_count": 31,
   "metadata": {},
   "outputs": [
    {
     "name": "stdout",
     "output_type": "stream",
     "text": [
      "Answer: 906609\n"
     ]
    }
   ],
   "source": [
    "palindromes = []\n",
    "new_option = 0\n",
    "\n",
    "for i in range (999, 100, -1):\n",
    "    for j in range (999, 100, -1):\n",
    "        new_option = i*j\n",
    "        if new_option == int(str(new_option)[::-1]):\n",
    "            palindromes.append(new_option)\n",
    "    \n",
    "palindromes.sort()\n",
    "\n",
    "print(\"Answer:\", palindromes[-1])"
   ]
  },
  {
   "cell_type": "markdown",
   "metadata": {},
   "source": [
    "\n",
    "### Challenge 2: Summation of Primes\n",
    "The sum of the primes below 10 is 2 + 3 + 5 + 7 = 17. Find the sum of all the primes below 2,000. Afterward, write a brief explanation walking through your code's logic in markdown."
   ]
  },
  {
   "cell_type": "code",
   "execution_count": 1,
   "metadata": {},
   "outputs": [
    {
     "name": "stdout",
     "output_type": "stream",
     "text": [
      "277050\n"
     ]
    }
   ],
   "source": [
    "import sympy\n",
    "\n",
    "prime_numbers = []\n",
    "not_prime_numbers = []\n",
    "\n",
    "total = 0\n",
    "\n",
    "for i in range (1, 2000):\n",
    "    if sympy.isprime(i) == True:\n",
    "        prime_numbers.append(i)\n",
    "    else:\n",
    "        not_prime_numbers.append(i)\n",
    "\n",
    "#print(prime_numbers)\n",
    "\n",
    "for x in prime_numbers:\n",
    "    total = total + x\n",
    "    \n",
    "print(total)"
   ]
  },
  {
   "cell_type": "markdown",
   "metadata": {},
   "source": [
    "### Challenge 3: Multiples of 3 and 5\n",
    "If we list all of the natural numbers below 10 that are multiples of 3 or 5, we get 3, 5, 6, and 9. The sum of these multiples is 23. Find the sum of all the multiples of 3 and 5 below 1,000. Afterward, write a brief explanation walking through your code's logic in markdown."
   ]
  },
  {
   "cell_type": "code",
   "execution_count": 17,
   "metadata": {},
   "outputs": [
    {
     "name": "stdout",
     "output_type": "stream",
     "text": [
      "Final answer: 266333\n",
      "All multiples of 3 that are less than 1000, summed: 166833\n",
      "All multiples of 5 that are less than 1000, summed: 99500\n"
     ]
    }
   ],
   "source": [
    "new_3_multiple = 0\n",
    "all_3_multiples = []\n",
    "\n",
    "new_5_multiple = 0\n",
    "all_5_multiples = []\n",
    "\n",
    "#Collecting all multiples of 3 that equal less than 1000 in a list\n",
    "for i in range (1, 1000):\n",
    "    new_3_multiple = 3 * i\n",
    "    if new_3_multiple < 1000:\n",
    "        all_3_multiples.append(new_3_multiple)\n",
    "    else:\n",
    "        break\n",
    "#Adding all multiples of 3 (under 1000) together\n",
    "sum_3_multiples = 0\n",
    "for i in all_3_multiples:\n",
    "    sum_3_multiples = sum_3_multiples + i\n",
    "\n",
    "\n",
    "    \n",
    "#Collecting all multiples of 5 that equal less than 1000 in a list\n",
    "for i in range (1, 1000):\n",
    "    new_5_multiple = 5 * i\n",
    "    if new_5_multiple < 1000:\n",
    "        all_5_multiples.append(new_5_multiple)\n",
    "#Adding all multiples of 5 (under 1000) together\n",
    "sum_5_multiples = 0\n",
    "for i in all_5_multiples:\n",
    "    sum_5_multiples = sum_5_multiples + i\n",
    "\n",
    "#print (new_3_multiple)\n",
    "#print (all_3_multiples)\n",
    "#print (all_5_multiples)\n",
    "\n",
    "\n",
    "final_answer = sum_3_multiples + sum_5_multiples\n",
    "\n",
    "print (\"Final answer:\", final_answer)\n",
    "\n",
    "print (\"All multiples of 3 that are less than 1000, summed:\", sum_3_multiples)\n",
    "print (\"All multiples of 5 that are less than 1000, summed:\", sum_5_multiples)\n",
    "\n",
    "\n"
   ]
  },
  {
   "cell_type": "markdown",
   "metadata": {},
   "source": [
    "### Challenge 4: String Compressor\n",
    "Implement a method to perform basic string compression using the counts of repeated characters. (This is called run-length encoding.) For example, the string \"aabcccccaaa\" would become a2b1c5a3. If the “compressed” string would not become smaller than the original string, your method should return the original string. You can assume the string has only uppercase and lowercase letters (a–z). Specify whether your solution is case sensitive or case insensitive and what you would need to change to make it the other. Afterward, write a brief explanation walking through your code's logic in markdown."
   ]
  },
  {
   "cell_type": "code",
   "execution_count": 58,
   "metadata": {},
   "outputs": [
    {
     "name": "stdout",
     "output_type": "stream",
     "text": [
      "a5b1c5\n"
     ]
    }
   ],
   "source": [
    "og_string = (\"AAbCCCCCaaa\").lower()\n",
    "\n",
    "a_count = str(og_string.count('a'))\n",
    "b_count = str(og_string.count('b'))\n",
    "c_count = str(og_string.count('c'))\n",
    "\n",
    "print(\"a\" + a_count + \"b\" + b_count + \"c\" + c_count)\n",
    "\n"
   ]
  },
  {
   "cell_type": "raw",
   "metadata": {
    "collapsed": true
   },
   "source": []
  },
  {
   "cell_type": "markdown",
   "metadata": {},
   "source": [
    "### *BONUS* Challenge: FizzBuzz\n",
    "Write a program that prints all of the numbers from 1 to 100. For multiples of 3, instead of the number, print \"Fizz;\" for multiples of 5, print \"Buzz.\" For numbers that are multiples of both 3 and 5, print \"FizzBuzz.\" Afterward, write a brief explanation walking through your code's logic in markdown."
   ]
  },
  {
   "cell_type": "code",
   "execution_count": null,
   "metadata": {
    "collapsed": true
   },
   "outputs": [],
   "source": []
  }
 ],
 "metadata": {
  "anaconda-cloud": {},
  "kernelspec": {
   "display_name": "Python 3",
   "language": "python",
   "name": "python3"
  },
  "language_info": {
   "codemirror_mode": {
    "name": "ipython",
    "version": 3
   },
   "file_extension": ".py",
   "mimetype": "text/x-python",
   "name": "python",
   "nbconvert_exporter": "python",
   "pygments_lexer": "ipython3",
   "version": "3.6.2"
  }
 },
 "nbformat": 4,
 "nbformat_minor": 2
}
